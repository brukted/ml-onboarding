{
  "cells": [
    {
      "cell_type": "markdown",
      "metadata": {
        "id": "view-in-github",
        "colab_type": "text"
      },
      "source": [
        "<a href=\"https://colab.research.google.com/github/brukted/ml-onboarding/blob/main/Checkpoints.ipynb\" target=\"_parent\"><img src=\"https://colab.research.google.com/assets/colab-badge.svg\" alt=\"Open In Colab\"/></a>"
      ]
    },
    {
      "cell_type": "markdown",
      "id": "70d68298",
      "metadata": {
        "id": "70d68298"
      },
      "source": [
        "# Checkpoints"
      ]
    },
    {
      "cell_type": "markdown",
      "id": "67d0260a",
      "metadata": {
        "id": "67d0260a"
      },
      "source": [
        "**CP1**:\n",
        "Given the list $[A, B, C]$, use the `itertools` module to generate all possible\n",
        "combinations of 2 elements.\n",
        "\n",
        "**Expected Output**:\n",
        "$$\n",
        " (A, B) \\\\\n",
        " (A, C) \\\\\n",
        " (B, C)\n",
        "$$"
      ]
    },
    {
      "cell_type": "code",
      "execution_count": 4,
      "id": "9dd63d67",
      "metadata": {
        "id": "9dd63d67",
        "colab": {
          "base_uri": "https://localhost:8080/"
        },
        "outputId": "00d6bc53-c629-4eb7-85ca-bbd426d73249"
      },
      "outputs": [
        {
          "output_type": "execute_result",
          "data": {
            "text/plain": [
              "[('A', 'B'), ('A', 'C'), ('B', 'C')]"
            ]
          },
          "metadata": {},
          "execution_count": 4
        }
      ],
      "source": [
        "import itertools\n",
        "data = ['A', 'B', 'C']\n",
        "list(itertools.combinations(data, 2))"
      ]
    },
    {
      "cell_type": "markdown",
      "id": "31c15dce",
      "metadata": {
        "id": "31c15dce"
      },
      "source": [
        "**CP2**:\n",
        "\n",
        "---\n",
        "\n",
        "\n",
        "Use the `itertools` module to create a sequence that cycles through\n",
        "['Python', 'is', 'fun'] infinitely. Print the first 10 elements of the sequence.\n",
        "\n",
        "**Expected Output**:\n",
        "$$\n",
        "Python \\\\\n",
        "is\\\\\n",
        "fun\\\\\n",
        "Python\\\\\n",
        "is\\\\\n",
        "fun\\\\\n",
        "Python\\\\\n",
        "is\\\\\n",
        "fun\\\\\n",
        "Python\n",
        "$$"
      ]
    },
    {
      "cell_type": "code",
      "execution_count": 16,
      "id": "c75f246c",
      "metadata": {
        "id": "c75f246c",
        "colab": {
          "base_uri": "https://localhost:8080/"
        },
        "outputId": "629bc708-3693-49d5-c93b-df4c96408f60"
      },
      "outputs": [
        {
          "output_type": "execute_result",
          "data": {
            "text/plain": [
              "['Python', 'is', 'fun', 'Python', 'is', 'fun', 'Python', 'is', 'fun', 'Python']"
            ]
          },
          "metadata": {},
          "execution_count": 16
        }
      ],
      "source": [
        "import itertools\n",
        "cyclic_iter = itertools.cycle(['Python', 'is', 'fun'])\n",
        "[next(cyclic_iter) for _ in range(10)]"
      ]
    },
    {
      "cell_type": "markdown",
      "id": "cbef0f63",
      "metadata": {
        "id": "cbef0f63"
      },
      "source": [
        "**CP3**:\n",
        "Use the `glob` module to list all python (.py) files in your current working directory.\n",
        "\n",
        "\n"
      ]
    },
    {
      "cell_type": "code",
      "execution_count": 15,
      "id": "3e62d5b4",
      "metadata": {
        "id": "3e62d5b4",
        "colab": {
          "base_uri": "https://localhost:8080/"
        },
        "outputId": "b73b2075-8d85-41e6-fa11-128091fc3180"
      },
      "outputs": [
        {
          "output_type": "execute_result",
          "data": {
            "text/plain": [
              "['test.py']"
            ]
          },
          "metadata": {},
          "execution_count": 15
        }
      ],
      "source": [
        "import glob\n",
        "glob.glob(\"*.py\")"
      ]
    },
    {
      "cell_type": "markdown",
      "id": "d266d698",
      "metadata": {
        "id": "d266d698"
      },
      "source": [
        "**CP4**: You are given the following HTML content below. Write a function that uses BeautifulSoup to parse the HTML and extract the text inside the   '$<p>$'   tag.\n"
      ]
    },
    {
      "cell_type": "code",
      "execution_count": null,
      "id": "27f941c8",
      "metadata": {
        "id": "27f941c8"
      },
      "outputs": [],
      "source": [
        "#<html><body><div class='main'><h1>Welcome to AI</h1><p>AI is transforming the world</p></div></body></html>"
      ]
    },
    {
      "cell_type": "code",
      "execution_count": 22,
      "id": "6fb1cdcf",
      "metadata": {
        "id": "6fb1cdcf",
        "colab": {
          "base_uri": "https://localhost:8080/"
        },
        "outputId": "d9dda0a0-3483-4464-ba31-5a2c0434b342"
      },
      "outputs": [
        {
          "output_type": "stream",
          "name": "stdout",
          "text": [
            "AI is transforming the world\n"
          ]
        }
      ],
      "source": [
        "from bs4 import BeautifulSoup\n",
        "\n",
        "page = \"<html><body><div class='main'><h1>Welcome to AI</h1><p>AI is transforming the world</p></div></body></html>\"\n",
        "soup = BeautifulSoup(page, 'html.parser')\n",
        "\n",
        "p_text = soup.find(\"p\").text\n",
        "print(p_text)"
      ]
    },
    {
      "cell_type": "markdown",
      "id": "a1fce3ef",
      "metadata": {
        "id": "a1fce3ef"
      },
      "source": [
        "**CP5**: Write a function that uses the re module to replace all occurrences of the word \"AI\" with \"Artificial Intelligence\" in a given text."
      ]
    },
    {
      "cell_type": "code",
      "execution_count": 23,
      "id": "07178a2d",
      "metadata": {
        "id": "07178a2d",
        "colab": {
          "base_uri": "https://localhost:8080/",
          "height": 35
        },
        "outputId": "ea9a0c34-f60b-4a5a-c8de-1893c7cd9426"
      },
      "outputs": [
        {
          "output_type": "execute_result",
          "data": {
            "text/plain": [
              "'Artificial Intelligence'"
            ],
            "application/vnd.google.colaboratory.intrinsic+json": {
              "type": "string"
            }
          },
          "metadata": {},
          "execution_count": 23
        }
      ],
      "source": [
        "import re\n",
        "def replaceAiWithArtificialIntelligence(text):\n",
        "  pattern = re.compile(\".*AI.*\")\n",
        "  return pattern.sub(\"Artificial Intelligence\", text)\n",
        "\n",
        "replaceAiWithArtificialIntelligence(p_text)"
      ]
    },
    {
      "cell_type": "markdown",
      "id": "4e471de6",
      "metadata": {
        "id": "4e471de6"
      },
      "source": [
        "**CP6**: Create a numpy array of 10 zeros."
      ]
    },
    {
      "cell_type": "code",
      "execution_count": 26,
      "id": "7f6e9acb",
      "metadata": {
        "id": "7f6e9acb",
        "colab": {
          "base_uri": "https://localhost:8080/"
        },
        "outputId": "4da3865c-54f9-4494-997f-8ede031d7c7f"
      },
      "outputs": [
        {
          "output_type": "execute_result",
          "data": {
            "text/plain": [
              "array([0., 0., 0., 0., 0., 0., 0., 0., 0., 0.])"
            ]
          },
          "metadata": {},
          "execution_count": 26
        }
      ],
      "source": [
        "import numpy as np\n",
        "\n",
        "np.zeros(10)"
      ]
    },
    {
      "cell_type": "markdown",
      "id": "5f52a63e",
      "metadata": {
        "id": "5f52a63e"
      },
      "source": [
        "**CP7** Create a numpy array of the integers from 10 to 49."
      ]
    },
    {
      "cell_type": "code",
      "execution_count": 33,
      "id": "ddb01e9a",
      "metadata": {
        "id": "ddb01e9a",
        "colab": {
          "base_uri": "https://localhost:8080/"
        },
        "outputId": "67569310-c096-44f7-941f-80eb68467016"
      },
      "outputs": [
        {
          "output_type": "execute_result",
          "data": {
            "text/plain": [
              "array([10, 11, 12, 13, 14, 15, 16, 17, 18, 19, 20, 21, 22, 23, 24, 25, 26,\n",
              "       27, 28, 29, 30, 31, 32, 33, 34, 35, 36, 37, 38, 39, 40, 41, 42, 43,\n",
              "       44, 45, 46, 47, 48, 49])"
            ]
          },
          "metadata": {},
          "execution_count": 33
        }
      ],
      "source": [
        "np.arange(10, 50)"
      ]
    },
    {
      "cell_type": "markdown",
      "id": "79e4d614",
      "metadata": {
        "id": "79e4d614"
      },
      "source": [
        "**CP8**: Create a 3x3 numpy matrix, filled with values ranging from 0 to 8."
      ]
    },
    {
      "cell_type": "code",
      "execution_count": 34,
      "id": "d3eddea4",
      "metadata": {
        "id": "d3eddea4",
        "colab": {
          "base_uri": "https://localhost:8080/"
        },
        "outputId": "c398b986-f3ca-49bf-853b-0c844c14e4d3"
      },
      "outputs": [
        {
          "output_type": "execute_result",
          "data": {
            "text/plain": [
              "array([[0, 1, 2],\n",
              "       [3, 4, 5],\n",
              "       [6, 7, 8]])"
            ]
          },
          "metadata": {},
          "execution_count": 34
        }
      ],
      "source": [
        "np.reshape(np.arange(0, 9), (3, 3))"
      ]
    },
    {
      "cell_type": "markdown",
      "id": "1b09270f",
      "metadata": {
        "id": "1b09270f"
      },
      "source": [
        "**CP9**: Explain why machine learning models require large amounts of data? What does it mean for an amount of data to be **large**?"
      ]
    },
    {
      "cell_type": "markdown",
      "source": [
        "Machine learning models require large amounts of data to learn from. The more data that is used to train a model, the more accurate the model will be. A large dataset is one that contains millions or even billions of data points."
      ],
      "metadata": {
        "id": "TwGetBYSDtaR"
      },
      "id": "TwGetBYSDtaR"
    },
    {
      "cell_type": "markdown",
      "id": "1a357bde",
      "metadata": {
        "id": "1a357bde"
      },
      "source": [
        "**CP10**: Explain 2 ways AI can be used in an adverserial way, and what can be done to prevent it."
      ]
    },
    {
      "cell_type": "markdown",
      "source": [
        "* Censoring information. AI can be used to filter out information that is considered to be harmful or objectionable. This can be used by governments or other organizations to control what information is available to the public.\n",
        "* Spreading misinformation. AI can be used to generate fake\n",
        "news articles, social media posts, and other forms of content that can be used to spread misinformation. This can have a negative impact on society, by sowing discord and undermining trust in institutions.\n",
        "\n",
        "Misinformation can be prevented using detectors by identifying and removing false or misleading content. Detectors can be used to analyze text, images, and videos to identify patterns that are often associated with misinformation. By removing false or misleading content, detectors can help to create a more accurate and reliable online environment.\n"
      ],
      "metadata": {
        "id": "X-89CnU9Ca62"
      },
      "id": "X-89CnU9Ca62"
    }
  ],
  "metadata": {
    "kernelspec": {
      "display_name": "Python 3 (ipykernel)",
      "language": "python",
      "name": "python3"
    },
    "language_info": {
      "codemirror_mode": {
        "name": "ipython",
        "version": 3
      },
      "file_extension": ".py",
      "mimetype": "text/x-python",
      "name": "python",
      "nbconvert_exporter": "python",
      "pygments_lexer": "ipython3",
      "version": "3.8.2"
    },
    "varInspector": {
      "cols": {
        "lenName": 16,
        "lenType": 16,
        "lenVar": 40
      },
      "kernels_config": {
        "python": {
          "delete_cmd_postfix": "",
          "delete_cmd_prefix": "del ",
          "library": "var_list.py",
          "varRefreshCmd": "print(var_dic_list())"
        },
        "r": {
          "delete_cmd_postfix": ") ",
          "delete_cmd_prefix": "rm(",
          "library": "var_list.r",
          "varRefreshCmd": "cat(var_dic_list()) "
        }
      },
      "types_to_exclude": [
        "module",
        "function",
        "builtin_function_or_method",
        "instance",
        "_Feature"
      ],
      "window_display": false
    },
    "colab": {
      "provenance": [],
      "include_colab_link": true
    }
  },
  "nbformat": 4,
  "nbformat_minor": 5
}